{
 "cells": [
  {
   "cell_type": "code",
   "execution_count": 1,
   "id": "e29ef196",
   "metadata": {},
   "outputs": [],
   "source": [
    "import pandas as pd"
   ]
  },
  {
   "cell_type": "code",
   "execution_count": 2,
   "id": "3218d046",
   "metadata": {},
   "outputs": [
    {
     "name": "stdout",
     "output_type": "stream",
     "text": [
      "   a   b   c\n",
      "0  1  11  21\n",
      "1  2  12  22\n",
      "2  3  13  23\n",
      "3  4  14  24\n",
      "4  5  15  25\n",
      "5  6  16  26\n",
      "6  7  17  27\n"
     ]
    }
   ],
   "source": [
    "dis = {\"a\":[1,2,3,4,5,6,7],\"b\":[11,12,13,14,15,16,17],\"c\":[21,22,23,24,25,26,27]}\n",
    "d = pd.DataFrame(dis)\n",
    "print(d)"
   ]
  },
  {
   "cell_type": "code",
   "execution_count": 3,
   "id": "c3949d4e",
   "metadata": {},
   "outputs": [],
   "source": [
    "d.to_csv(\"Demo_csv.csv\")"
   ]
  },
  {
   "cell_type": "code",
   "execution_count": 4,
   "id": "06034118",
   "metadata": {},
   "outputs": [],
   "source": [
    "d.to_csv(\"Demo_csv1.csv\",index=False)"
   ]
  },
  {
   "cell_type": "code",
   "execution_count": 5,
   "id": "85ce8523",
   "metadata": {},
   "outputs": [],
   "source": [
    "d.to_csv(\"Demo_csv2.csv\",index=False,header=[\"x\",\"y\",\"z\"])"
   ]
  }
 ],
 "metadata": {
  "kernelspec": {
   "display_name": "Python 3 (ipykernel)",
   "language": "python",
   "name": "python3"
  },
  "language_info": {
   "codemirror_mode": {
    "name": "ipython",
    "version": 3
   },
   "file_extension": ".py",
   "mimetype": "text/x-python",
   "name": "python",
   "nbconvert_exporter": "python",
   "pygments_lexer": "ipython3",
   "version": "3.11.4"
  }
 },
 "nbformat": 4,
 "nbformat_minor": 5
}
