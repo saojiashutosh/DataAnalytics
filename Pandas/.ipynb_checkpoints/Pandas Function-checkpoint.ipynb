{
 "cells": [
  {
   "cell_type": "code",
   "execution_count": 2,
   "id": "b46c97b4",
   "metadata": {},
   "outputs": [
    {
     "name": "stdout",
     "output_type": "stream",
     "text": [
      "    Interest Rate  Unemployement_rate  Stock_index_price\n",
      "0            2.75                 5.3               1464\n",
      "1            2.50                 5.3               1393\n",
      "2            2.50                 5.3               1357\n",
      "3            2.50                 5.3               1293\n",
      "4            2.50                 5.4               1256\n",
      "5            2.50                 5.6               1254\n",
      "6            2.50                 5.5               1234\n",
      "7            2.25                 5.5               1195\n",
      "8            2.25                 5.5               1159\n",
      "9            2.25                 5.6               1167\n",
      "10           2.00                 5.7               1130\n",
      "11           2.00                 5.9               1075\n",
      "12           2.00                 6.0               1047\n",
      "13           1.75                 5.9                965\n",
      "14           1.75                 5.8                943\n",
      "15           1.75                 6.1                958\n",
      "16           1.75                 6.2                971\n",
      "17           1.75                 6.1                949\n",
      "18           1.75                 6.1                884\n",
      "19           1.75                 6.1                866\n",
      "20           1.75                 5.9                876\n",
      "21           1.75                 6.2                822\n",
      "22           1.75                 6.2                704\n",
      "23           1.75                 6.1                716\n"
     ]
    }
   ],
   "source": [
    "import pandas as pd\n",
    "\n",
    "csv_1 = pd.read_csv(\"D:\\\\Data Analytics Icube\\\\Pandas\\\\Stock_data.csv\")\n",
    "\n",
    "print(csv_1)"
   ]
  },
  {
   "cell_type": "code",
   "execution_count": 3,
   "id": "1ff61d93",
   "metadata": {},
   "outputs": [
    {
     "data": {
      "text/plain": [
       "RangeIndex(start=0, stop=24, step=1)"
      ]
     },
     "execution_count": 3,
     "metadata": {},
     "output_type": "execute_result"
    }
   ],
   "source": [
    "csv_1.index"
   ]
  },
  {
   "cell_type": "code",
   "execution_count": 5,
   "id": "50ee54a0",
   "metadata": {},
   "outputs": [
    {
     "data": {
      "text/plain": [
       "Index(['Interest Rate', 'Unemployement_rate', 'Stock_index_price'], dtype='object')"
      ]
     },
     "execution_count": 5,
     "metadata": {},
     "output_type": "execute_result"
    }
   ],
   "source": [
    "csv_1.columns"
   ]
  },
  {
   "cell_type": "code",
   "execution_count": 6,
   "id": "179671ad",
   "metadata": {},
   "outputs": [
    {
     "data": {
      "text/html": [
       "<div>\n",
       "<style scoped>\n",
       "    .dataframe tbody tr th:only-of-type {\n",
       "        vertical-align: middle;\n",
       "    }\n",
       "\n",
       "    .dataframe tbody tr th {\n",
       "        vertical-align: top;\n",
       "    }\n",
       "\n",
       "    .dataframe thead th {\n",
       "        text-align: right;\n",
       "    }\n",
       "</style>\n",
       "<table border=\"1\" class=\"dataframe\">\n",
       "  <thead>\n",
       "    <tr style=\"text-align: right;\">\n",
       "      <th></th>\n",
       "      <th>Interest Rate</th>\n",
       "      <th>Unemployement_rate</th>\n",
       "      <th>Stock_index_price</th>\n",
       "    </tr>\n",
       "  </thead>\n",
       "  <tbody>\n",
       "    <tr>\n",
       "      <th>0</th>\n",
       "      <td>2.75</td>\n",
       "      <td>5.3</td>\n",
       "      <td>1464</td>\n",
       "    </tr>\n",
       "    <tr>\n",
       "      <th>1</th>\n",
       "      <td>2.50</td>\n",
       "      <td>5.3</td>\n",
       "      <td>1393</td>\n",
       "    </tr>\n",
       "    <tr>\n",
       "      <th>2</th>\n",
       "      <td>2.50</td>\n",
       "      <td>5.3</td>\n",
       "      <td>1357</td>\n",
       "    </tr>\n",
       "    <tr>\n",
       "      <th>3</th>\n",
       "      <td>2.50</td>\n",
       "      <td>5.3</td>\n",
       "      <td>1293</td>\n",
       "    </tr>\n",
       "    <tr>\n",
       "      <th>4</th>\n",
       "      <td>2.50</td>\n",
       "      <td>5.4</td>\n",
       "      <td>1256</td>\n",
       "    </tr>\n",
       "  </tbody>\n",
       "</table>\n",
       "</div>"
      ],
      "text/plain": [
       "   Interest Rate  Unemployement_rate  Stock_index_price\n",
       "0           2.75                 5.3               1464\n",
       "1           2.50                 5.3               1393\n",
       "2           2.50                 5.3               1357\n",
       "3           2.50                 5.3               1293\n",
       "4           2.50                 5.4               1256"
      ]
     },
     "execution_count": 6,
     "metadata": {},
     "output_type": "execute_result"
    }
   ],
   "source": [
    "csv_1.head()"
   ]
  },
  {
   "cell_type": "code",
   "execution_count": null,
   "id": "fc24763f",
   "metadata": {},
   "outputs": [],
   "source": []
  }
 ],
 "metadata": {
  "kernelspec": {
   "display_name": "Python 3 (ipykernel)",
   "language": "python",
   "name": "python3"
  },
  "language_info": {
   "codemirror_mode": {
    "name": "ipython",
    "version": 3
   },
   "file_extension": ".py",
   "mimetype": "text/x-python",
   "name": "python",
   "nbconvert_exporter": "python",
   "pygments_lexer": "ipython3",
   "version": "3.11.4"
  }
 },
 "nbformat": 4,
 "nbformat_minor": 5
}
