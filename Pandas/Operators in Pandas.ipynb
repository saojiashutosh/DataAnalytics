{
 "cells": [
  {
   "cell_type": "markdown",
   "id": "6deb6ede",
   "metadata": {},
   "source": [
    "# Comparison Operation"
   ]
  },
  {
   "cell_type": "code",
   "execution_count": 1,
   "id": "7a38aaaf",
   "metadata": {},
   "outputs": [],
   "source": [
    "import pandas as pd"
   ]
  },
  {
   "cell_type": "code",
   "execution_count": 2,
   "id": "30a263d1",
   "metadata": {},
   "outputs": [
    {
     "name": "stdout",
     "output_type": "stream",
     "text": [
      "    A   B\n",
      "0  10  14\n",
      "1  20  16\n",
      "2  30  18\n",
      "3  40  20\n"
     ]
    }
   ],
   "source": [
    "var = pd.DataFrame({\"A\":[10,20,30,40], \"B\":[14,16,18,20]})\n",
    "print(var)"
   ]
  },
  {
   "cell_type": "code",
   "execution_count": 3,
   "id": "82af875c",
   "metadata": {},
   "outputs": [],
   "source": [
    "var[\"A<=B\"]= var[\"A\"] <= var[\"B\"]\n",
    "var[\"A>=b\"]= var[\"A\"] >= var[\"B\"]"
   ]
  },
  {
   "cell_type": "code",
   "execution_count": 4,
   "id": "b5d549d4",
   "metadata": {},
   "outputs": [
    {
     "name": "stdout",
     "output_type": "stream",
     "text": [
      "    A   B   A<=B   A>=b\n",
      "0  10  14   True  False\n",
      "1  20  16  False   True\n",
      "2  30  18  False   True\n",
      "3  40  20  False   True\n"
     ]
    }
   ],
   "source": [
    "print(var)"
   ]
  },
  {
   "cell_type": "markdown",
   "id": "860b3af3",
   "metadata": {},
   "source": [
    "# Arithmetic Operation"
   ]
  },
  {
   "cell_type": "code",
   "execution_count": 6,
   "id": "4a78b47b",
   "metadata": {},
   "outputs": [
    {
     "name": "stdout",
     "output_type": "stream",
     "text": [
      "    A   B   A<=B   A>=b  A+B  A-B  A*B       A/B  A%B\n",
      "0  10  14   True  False   24   -4  140  0.714286   10\n",
      "1  20  16  False   True   36    4  320  1.250000    4\n",
      "2  30  18  False   True   48   12  540  1.666667   12\n",
      "3  40  20  False   True   60   20  800  2.000000    0\n"
     ]
    }
   ],
   "source": [
    "var[\"A+B\"] = var[\"A\"] + var[\"B\"]  #Addition\n",
    "var[\"A-B\"] = var[\"A\"] - var[\"B\"]  #Substraction\n",
    "var[\"A*B\"] = var[\"A\"] * var[\"B\"]  #Multiplication\n",
    "var[\"A/B\"] = var[\"A\"] / var[\"B\"]  #Division\n",
    "var[\"A%B\"] = var[\"A\"] % var[\"B\"]  #Mod\n",
    "\n",
    "print(var)"
   ]
  }
 ],
 "metadata": {
  "kernelspec": {
   "display_name": "Python 3 (ipykernel)",
   "language": "python",
   "name": "python3"
  },
  "language_info": {
   "codemirror_mode": {
    "name": "ipython",
    "version": 3
   },
   "file_extension": ".py",
   "mimetype": "text/x-python",
   "name": "python",
   "nbconvert_exporter": "python",
   "pygments_lexer": "ipython3",
   "version": "3.11.4"
  }
 },
 "nbformat": 4,
 "nbformat_minor": 5
}
