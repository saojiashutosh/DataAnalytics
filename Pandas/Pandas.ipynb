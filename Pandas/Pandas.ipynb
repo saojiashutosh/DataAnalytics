{
 "cells": [
  {
   "cell_type": "markdown",
   "id": "250360e9",
   "metadata": {},
   "source": [
    "# Series"
   ]
  },
  {
   "cell_type": "code",
   "execution_count": 2,
   "id": "54a764b8",
   "metadata": {},
   "outputs": [],
   "source": [
    "import pandas as pd"
   ]
  },
  {
   "cell_type": "code",
   "execution_count": 3,
   "id": "00c47bf0",
   "metadata": {
    "scrolled": true
   },
   "outputs": [
    {
     "name": "stdout",
     "output_type": "stream",
     "text": [
      "0    2\n",
      "1    3\n",
      "2    4\n",
      "3    5\n",
      "4    6\n",
      "dtype: int64\n",
      "<class 'pandas.core.series.Series'>\n"
     ]
    }
   ],
   "source": [
    "s = [2,3,4,5,6]\n",
    "var= pd.Series(s)\n",
    "\n",
    "print(var)\n",
    "print(type(var))"
   ]
  },
  {
   "cell_type": "code",
   "execution_count": 6,
   "id": "9dff136c",
   "metadata": {},
   "outputs": [
    {
     "name": "stdout",
     "output_type": "stream",
     "text": [
      "a    2.0\n",
      "b    3.0\n",
      "c    4.0\n",
      "d    5.0\n",
      "e    6.0\n",
      "dtype: float64\n",
      "<class 'pandas.core.series.Series'>\n"
     ]
    }
   ],
   "source": [
    "s = [2,3,4,5,6]\n",
    "var= pd.Series(s , index = ['a','b','c','d','e'] , dtype=\"float\")\n",
    "\n",
    "print(var)\n",
    "print(type(var))"
   ]
  },
  {
   "cell_type": "code",
   "execution_count": 7,
   "id": "b3e67f08",
   "metadata": {},
   "outputs": [
    {
     "name": "stdout",
     "output_type": "stream",
     "text": [
      "1    24.0\n",
      "2    24.0\n",
      "3    24.0\n",
      "4    24.0\n",
      "5     NaN\n",
      "6     NaN\n",
      "7     NaN\n",
      "dtype: float64\n"
     ]
    }
   ],
   "source": [
    "S1 = pd.Series(12 , index=[1,2,3,4,5,6,7])\n",
    "S2 = pd.Series(12 , index=[1,2,3,4])\n",
    "\n",
    "print(S1+S2) #will print the output also for the missing index , but if we use numpy array then it will throw the broadcast error"
   ]
  },
  {
   "cell_type": "markdown",
   "id": "0a01cbac",
   "metadata": {},
   "source": [
    "# DataFrame"
   ]
  },
  {
   "cell_type": "code",
   "execution_count": 8,
   "id": "ba1d7b2f",
   "metadata": {},
   "outputs": [
    {
     "name": "stdout",
     "output_type": "stream",
     "text": [
      "   0\n",
      "0  1\n",
      "1  2\n",
      "2  3\n",
      "3  4\n",
      "4  5\n",
      "5  6\n",
      "6  7\n",
      "7  8\n",
      "<class 'pandas.core.frame.DataFrame'>\n"
     ]
    }
   ],
   "source": [
    "l = [1,2,3,4,5,6,7,8]\n",
    "var = pd.DataFrame(l)\n",
    "print(var)\n",
    "print(type(var))"
   ]
  },
  {
   "cell_type": "code",
   "execution_count": 10,
   "id": "b9d9e1b4",
   "metadata": {},
   "outputs": [
    {
     "name": "stdout",
     "output_type": "stream",
     "text": [
      "    0   1   2   3   4   5   6   7\n",
      "0   1   2   3   4   5   6   7   8\n",
      "1  99  98  97  96  95  94  93  92\n"
     ]
    }
   ],
   "source": [
    "l = [[1,2,3,4,5,6,7,8],[99,98,97,96,95,94,93,92]]\n",
    "var = pd.DataFrame(l)\n",
    "print(var)"
   ]
  },
  {
   "cell_type": "code",
   "execution_count": 12,
   "id": "c35ecc8e",
   "metadata": {},
   "outputs": [
    {
     "name": "stdout",
     "output_type": "stream",
     "text": [
      "   a  b  c  1\n",
      "0  1  1  1  1\n",
      "1  2  2  2  2\n",
      "2  3  3  3  3\n",
      "3  4  4  4  4\n",
      "4  5  5  5  5\n",
      "<class 'pandas.core.frame.DataFrame'>\n"
     ]
    }
   ],
   "source": [
    "d1 = {\"a\":[1,2,3,4,5],\"b\":[1,2,3,4,5],\"c\":[1,2,3,4,5],1:[1,2,3,4,5]}\n",
    "var1 = pd.DataFrame(d1)\n",
    "print(var1)\n",
    "print(type(var1))"
   ]
  },
  {
   "cell_type": "code",
   "execution_count": 14,
   "id": "abd326c5",
   "metadata": {},
   "outputs": [
    {
     "name": "stdout",
     "output_type": "stream",
     "text": [
      "   a  1\n",
      "9  1  1\n",
      "8  2  2\n",
      "7  3  3\n",
      "6  4  4\n",
      "5  5  5\n",
      "<class 'pandas.core.frame.DataFrame'>\n"
     ]
    }
   ],
   "source": [
    "d1 = {\"a\":[1,2,3,4,5],\"b\":[1,2,3,4,5],\"c\":[1,2,3,4,5],1:[1,2,3,4,5]}\n",
    "var1 = pd.DataFrame(d1,columns=[\"a\",1],index=[9,8,7,6,5])\n",
    "print(var1)\n",
    "print(type(var1))"
   ]
  },
  {
   "cell_type": "code",
   "execution_count": 17,
   "id": "633bd73c",
   "metadata": {},
   "outputs": [
    {
     "name": "stdout",
     "output_type": "stream",
     "text": [
      "4\n"
     ]
    }
   ],
   "source": [
    "print(var1[\"a\"][6])"
   ]
  },
  {
   "cell_type": "code",
   "execution_count": 18,
   "id": "02bb5132",
   "metadata": {},
   "outputs": [
    {
     "name": "stdout",
     "output_type": "stream",
     "text": [
      "   a  b\n",
      "0  9  1\n",
      "1  8  2\n",
      "2  7  3\n",
      "3  6  4\n",
      "4  5  5\n",
      "<class 'pandas.core.frame.DataFrame'>\n"
     ]
    }
   ],
   "source": [
    "sr = {\"a\":[9,8,7,6,5],\"b\":[1,2,3,4,5]}\n",
    "var2 = pd.DataFrame(sr)\n",
    "print(var2)\n",
    "print(type(var2))"
   ]
  }
 ],
 "metadata": {
  "kernelspec": {
   "display_name": "Python 3 (ipykernel)",
   "language": "python",
   "name": "python3"
  },
  "language_info": {
   "codemirror_mode": {
    "name": "ipython",
    "version": 3
   },
   "file_extension": ".py",
   "mimetype": "text/x-python",
   "name": "python",
   "nbconvert_exporter": "python",
   "pygments_lexer": "ipython3",
   "version": "3.11.4"
  }
 },
 "nbformat": 4,
 "nbformat_minor": 5
}
